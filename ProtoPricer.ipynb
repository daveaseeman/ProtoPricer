{
 "cells": [
  {
   "cell_type": "code",
   "execution_count": 56,
   "metadata": {},
   "outputs": [],
   "source": [
    "import os\n",
    "import numpy\n",
    "from stl import mesh\n",
    "from mpl_toolkits import mplot3d\n",
    "from matplotlib import pyplot"
   ]
  },
  {
   "cell_type": "markdown",
   "metadata": {},
   "source": [
    "### Price Calcs\n",
    "\n",
    "- Cost per ml: \\$0.149 to \\$0.199\n",
    "- Material Factor: 1.5x to 3x, avg of 2x\n",
    "- Labor Factor: a base price or a multiplier\n",
    "\n",
    "### Factors\n",
    "\n",
    "- Fractal was \\$0.30/$cm^3$\n",
    "- Shapeways is \\$2.35/$cm^3$\n",
    "- Protolabs is \\$14.20/$cm^3$"
   ]
  },
  {
   "cell_type": "markdown",
   "metadata": {},
   "source": [
    "### Data\n",
    "\n",
    "#### Volume Data\n",
    "\n",
    "| part                              | volume pre-process | volume post-process | volume ratio |\n",
    "|-----------------------------------|--------------------|---------------------|--------------|\n",
    "| std10mm_Bar Type - Housing Bottom | 12.47              | 26.57               | 2.13         |\n",
    "| std10mm_Bar Type - Housing Top    | 10.01              | 23.91               | 2.39         |\n",
    "| eng10mm_Bar Type - Rubber Top     | 7.42               | 14.23               | 1.92         |\n",
    "| eng10mm_Bar Type - Rubber Bottom  | 7.38               | 21.94               | 2.97         |\n",
    "|                                   |                    |                     |              |\n",
    "| std20mm_Prototype - Sleeve Half   | 2.03               | 4.41                | 2.17         |\n",
    "| std20mm_Prototype - Release Rod   | 1.54               | 2.38                | 1.55         |\n",
    "| std20mm_Prototype - Body Half     | 2.44               | 5.9                 | 2.42         |\n",
    "| eng20mm_Prototype - Rubber Half   | 2.23               | 3.6                 | 1.61         |\n",
    "\n",
    "#### Volume Ratios\n",
    "\n",
    "| Volume Ratio |      |\n",
    "|--------------|------|\n",
    "| min:         | 1.55 |\n",
    "| max:         | 2.97 |\n",
    "| mean:        | 2.15 |\n",
    "| std:         | 0.46 |\n",
    "\n",
    "#### 3d Pricer Data\n",
    "\n",
    "| material rate | material factor | labor factor | 3dpricer  |\n",
    "|---------------|-----------------|--------------|-----------|\n",
    "| 0.149         | 2               | 10           | \\$37.16   |\n",
    "| 0.149         | 2               | 10           | \\$29.83   |\n",
    "| 0.199         | 2               | 10           | \\$29.53   |\n",
    "| 0.199         | 2               | 10           | \\$29.37   |\n",
    "| 0.149         | 2               | 10           | \\$6.05    |\n",
    "| 0.149         | 2               | 10           | \\$4.59    |\n",
    "| 0.149         | 2               | 10           | \\$7.27    |\n",
    "| 0.199         | 2               | 10           | \\$8.88    |\n",
    "\n",
    "#### Manual Pricer Data\n",
    "\n",
    "| manual pricer | pricer ratio |\n",
    "|---------------|--------------|\n",
    "| \\$39.59        | 0.94         |\n",
    "| \\$35.63        | 0.84         |\n",
    "| \\$28.32        | 1.04         |\n",
    "| \\$43.66        | 0.67         |\n",
    "| \\$6.57         | 0.92         |\n",
    "| \\$3.55         | 1.29         |\n",
    "| \\$8.79         | 0.83         |\n",
    "| \\$7.16         | 1.24         |\n",
    "\n",
    "#### Pricer Ratios\n",
    "\n",
    "| Pricer Ratio |      |\n",
    "|--------------|------|\n",
    "| min:         | 0.67 |\n",
    "| max:         | 1.29 |\n",
    "| mean:        | 0.97 |\n",
    "| std:         | 0.21 |\n",
    "\n",
    "#### Notes:\n",
    "- Pricer ratios are only affected by the material factor.\n",
    "- The labor factor is in both prices, so it doesn't affect the ratio (it drops out)"
   ]
  },
  {
   "cell_type": "code",
   "execution_count": 57,
   "metadata": {},
   "outputs": [],
   "source": [
    "materials = {'pla': .01,\n",
    "             'std': .149,\n",
    "             'eng': .199,\n",
    "             'shapeways': 2.35,\n",
    "             'protolabs': 14.20}\n",
    "\n",
    "resolution = {'lo': 1.0,\n",
    "              'md': 1.5,\n",
    "              'hi': 2.0}\n",
    "\n",
    "conversion = {'in': 16387.064,\n",
    "              'mm': 1}\n",
    "\n",
    "rates = {'material': 5,\n",
    "         'labor': 8,\n",
    "         'materials': 5,\n",
    "         'order_min': 25,\n",
    "         'part_min': 15,\n",
    "         'editing': 75}\n",
    "\n",
    "finishing = {'none': 1.0,\n",
    "             'basic': 1.5,\n",
    "             'sanded': 2.0,\n",
    "             'primed': 3.0,\n",
    "             'painted': 4.0}"
   ]
  },
  {
   "cell_type": "code",
   "execution_count": 58,
   "metadata": {},
   "outputs": [],
   "source": [
    "def get_stl_image(meta):\n",
    "    file = meta['path']\n",
    "    name = meta['name']\n",
    "    price = meta['price']\n",
    "    qty = meta['qty']\n",
    "    # Create a new plot\n",
    "    figure = pyplot.figure()\n",
    "    axes = mplot3d.Axes3D(figure)\n",
    "    axes.set_title(\"{0:.0f} x {1:s} - ${2:.2f}\".format(qty,name,price), fontsize=14, fontweight='bold')\n",
    "\n",
    "    # Load the STL files and add the vectors to the plot\n",
    "    your_mesh = mesh.Mesh.from_file(file)\n",
    "    axes.add_collection3d(mplot3d.art3d.Poly3DCollection(your_mesh.vectors))\n",
    "\n",
    "    # Auto scale to the mesh size\n",
    "    scale = your_mesh.points.flatten(-1)\n",
    "    axes.auto_scale_xyz(scale, scale, scale)\n",
    "\n",
    "    # Show the plot to the screen\n",
    "    pyplot.axis('off')\n",
    "    image = pyplot.show()\n",
    "    return image\n",
    "\n",
    "# example\n",
    "# stdmd20mm_name\n",
    "# 0123456789\n",
    "\n",
    "def get_part_files(part_dir):\n",
    "    part_dir = 'Parts/' + part_dir\n",
    "    part_files = {}\n",
    "    for file in os.listdir(part_dir):\n",
    "        if file.endswith(\".stl\"):            \n",
    "            meta_data = {}\n",
    "            material = file[:3]\n",
    "            resolution = file[3:5]\n",
    "            qty = int(file[5])\n",
    "            edit = int(file[6])\n",
    "            unit = file[7:9]\n",
    "            name = file[10:]\n",
    "            meta_data[\"name\"] = name\n",
    "            meta_data[\"path\"] = part_dir + \"/\" + file\n",
    "            meta_data[\"material\"] = material\n",
    "            meta_data[\"resolution\"] = resolution\n",
    "            meta_data[\"qty\"] = qty\n",
    "            meta_data[\"edit\"] = edit\n",
    "            meta_data[\"unit\"] = unit\n",
    "            part_files[file] = meta_data\n",
    "    return part_files\n",
    "\n",
    "def get_rate_pricing(part_dir):\n",
    "    total = 0\n",
    "    part_total = {}\n",
    "    part_pricing = {}\n",
    "    parts = get_part_files(part_dir)\n",
    "    for part in parts:\n",
    "        # STL data\n",
    "        meta = parts[part]\n",
    "        part_mesh = mesh.Mesh.from_file(meta['path'])\n",
    "        volume, cog, inertia = part_mesh.get_mass_properties()\n",
    "        volume = volume*.001*conversion[meta['unit']]\n",
    "        meta['volume'] = volume\n",
    "        # Price Calculation\n",
    "        material_cost = materials[meta['material']]*resolution[meta['resolution']]*volume*rates['labor']*rates['material']*meta['qty']\n",
    "        editing_cost = meta['edit']*rates['editing']\n",
    "        part_price = material_cost + editing_cost\n",
    "        # Save Price & Total\n",
    "        total += part_price\n",
    "        meta['price'] = part_price\n",
    "        part_pricing[part] = meta\n",
    "    part_total['price'] = total\n",
    "    part_total['name'] = \"Total\"\n",
    "    part_total['order'] = part_dir\n",
    "    part_pricing['total'] = part_total\n",
    "    return part_pricing\n",
    "\n",
    "def get_base_pricing(part_dir):\n",
    "    parts = get_part_files(part_dir)\n",
    "    total = 0\n",
    "    count = 0\n",
    "    part_total = {}\n",
    "    part_pricing = {}\n",
    "    for part in parts:\n",
    "        meta = parts[part]\n",
    "        qty = meta['qty']\n",
    "        count += qty\n",
    "    part_base = rates['part_min'] + rates['order_min']/qty\n",
    "    for part in parts:\n",
    "        # STL data\n",
    "        meta = parts[part]\n",
    "        part_mesh = mesh.Mesh.from_file(meta['path'])\n",
    "        volume, cog, inertia = part_mesh.get_mass_properties()\n",
    "#         area = MeshFacesArea(part_mesh)\n",
    "#         meta['area'] = area\n",
    "        volume = volume*.001*conversion[meta['unit']]\n",
    "        meta['volume'] = volume\n",
    "        # Price Calculation\n",
    "        material_cost = materials[meta['material']]*resolution[meta['resolution']]*volume*rates['materials']*meta['qty']\n",
    "        editing_cost = meta['edit']*rates['editing']\n",
    "        part_price = material_cost + editing_cost + part_base\n",
    "        # Save Price & Total\n",
    "        total += part_price\n",
    "        meta['price'] = part_price\n",
    "        part_pricing[part] = meta\n",
    "    part_total['price'] = total\n",
    "    part_total['name'] = \"Total\"\n",
    "    part_total['order'] = part_dir\n",
    "    part_pricing['total'] = part_total\n",
    "    return part_pricing\n"
   ]
  },
  {
   "cell_type": "code",
   "execution_count": 59,
   "metadata": {},
   "outputs": [],
   "source": [
    "def print_pricing(part_pricing, print_volume, print_image):\n",
    "    print(part_pricing['total']['order'])\n",
    "    for part in part_pricing:\n",
    "        meta = part_pricing[part]\n",
    "        if part != 'total':\n",
    "            print(\"{0:.0f} x \".format(meta['qty']), end='')\n",
    "            if print_image == 1:\n",
    "                get_stl_image(meta)\n",
    "            if print_volume == 1:\n",
    "                volume = meta['volume']\n",
    "                unit = meta['unit']\n",
    "                print(\" {0:.2f}{1:s}^3 \".format(volume,unit), end='')\n",
    "#                 print(meta['area'])\n",
    "        print(\"{0:s} - ${1:.2f}\".format(meta['name'],meta['price']))\n",
    "    return None\n",
    "\n",
    "def print_figures(part_pricing):\n",
    "    print('Figures:')\n",
    "    for part in part_pricing:\n",
    "        meta = part_pricing[part]\n",
    "        if part != 'total':\n",
    "            get_stl_image(meta)\n",
    "        else:\n",
    "            print(\"{0:s} - ${1:.2f}\".format(meta['name'],meta['price']))\n",
    "    return None"
   ]
  },
  {
   "cell_type": "markdown",
   "metadata": {},
   "source": [
    "### Test"
   ]
  },
  {
   "cell_type": "code",
   "execution_count": 60,
   "metadata": {},
   "outputs": [],
   "source": [
    "# print(\"Rate\")\n",
    "# print_pricing(get_rate_pricing(\"project_WU\"),0,0)\n",
    "# print(\"Base\")\n",
    "# print_pricing(get_base_pricing(\"project_WU\"),0,0)\n",
    "# print(\"\\n\")\n",
    "# print(\"Rate\")\n",
    "# print_pricing(get_rate_pricing(\"project_DM\"),0,0)\n",
    "# print(\"Base\")\n",
    "# print_pricing(get_base_pricing(\"project_DM\"),0,0)"
   ]
  },
  {
   "cell_type": "code",
   "execution_count": 61,
   "metadata": {},
   "outputs": [],
   "source": [
    "# print_figures(get_base_pricing(\"project_DM\"))"
   ]
  },
  {
   "cell_type": "code",
   "execution_count": 62,
   "metadata": {},
   "outputs": [],
   "source": [
    "# print_pricing(get_base_pricing(\"Clear Prototype\"),0,0)\n",
    "# print_pricing(get_base_pricing(\"Color Prototype\"),0,0)"
   ]
  },
  {
   "cell_type": "code",
   "execution_count": 63,
   "metadata": {},
   "outputs": [],
   "source": [
    "# print_pricing(get_base_pricing(\"MCA\"),0,0)"
   ]
  },
  {
   "cell_type": "code",
   "execution_count": 64,
   "metadata": {},
   "outputs": [],
   "source": [
    "# print_pricing(get_base_pricing(\"Band\"),0,0)"
   ]
  },
  {
   "cell_type": "code",
   "execution_count": 65,
   "metadata": {},
   "outputs": [],
   "source": [
    "# print_pricing(get_base_pricing(\"DM Small Prototype\"),0,0)\n",
    "# print_pricing(get_base_pricing(\"DM Big Prototype\"),0,0)"
   ]
  },
  {
   "cell_type": "code",
   "execution_count": 66,
   "metadata": {},
   "outputs": [],
   "source": [
    "# print_pricing(get_base_pricing(\"SWS Proto\"),0,0)"
   ]
  },
  {
   "cell_type": "code",
   "execution_count": 67,
   "metadata": {},
   "outputs": [],
   "source": [
    "# print_pricing(get_rate_pricing(\"Bottle Lid\"),0,0)"
   ]
  },
  {
   "cell_type": "code",
   "execution_count": 68,
   "metadata": {},
   "outputs": [
    {
     "name": "stderr",
     "output_type": "stream",
     "text": [
      "Your mesh is not closed, the mass methods will not function\n",
      "            correctly on this mesh.  For more info:\n",
      "            https://github.com/WoLpH/numpy-stl/issues/69\n",
      "Your mesh is not closed, the mass methods will not function\n",
      "            correctly on this mesh.  For more info:\n",
      "            https://github.com/WoLpH/numpy-stl/issues/69\n",
      "Your mesh is not closed, the mass methods will not function\n",
      "            correctly on this mesh.  For more info:\n",
      "            https://github.com/WoLpH/numpy-stl/issues/69\n",
      "Your mesh is not closed, the mass methods will not function\n",
      "            correctly on this mesh.  For more info:\n",
      "            https://github.com/WoLpH/numpy-stl/issues/69\n"
     ]
    },
    {
     "name": "stdout",
     "output_type": "stream",
     "text": [
      "Meeples\n",
      "1 x P4_Meeple.stl - $41.03\n",
      "1 x P1_Meeple.stl - $42.04\n",
      "1 x P3_Meeple.stl - $41.25\n",
      "1 x P5_Meeple.stl - $41.93\n",
      "1 x P2_Meeple.stl - $41.67\n",
      "Total - $207.91\n"
     ]
    }
   ],
   "source": [
    "# print_pricing(get_rate_pricing(\"Packaging Samples\"),0,0)\n",
    "\n",
    "# print_pricing(get_base_pricing(\"Packaging Samples\"),0,0)\n",
    "\n",
    "print_pricing(get_base_pricing(\"Meeples\"),0,0)"
   ]
  },
  {
   "cell_type": "code",
   "execution_count": 69,
   "metadata": {},
   "outputs": [
    {
     "ename": "UnboundLocalError",
     "evalue": "local variable 'qty' referenced before assignment",
     "output_type": "error",
     "traceback": [
      "\u001b[0;31m---------------------------------------------------------------------------\u001b[0m",
      "\u001b[0;31mUnboundLocalError\u001b[0m                         Traceback (most recent call last)",
      "\u001b[0;32m<ipython-input-69-b9fdc3dcf8fd>\u001b[0m in \u001b[0;36m<module>\u001b[0;34m\u001b[0m\n\u001b[0;32m----> 1\u001b[0;31m \u001b[0mprint_pricing\u001b[0m\u001b[0;34m(\u001b[0m\u001b[0mget_base_pricing\u001b[0m\u001b[0;34m(\u001b[0m\u001b[0;34m\"jeff\"\u001b[0m\u001b[0;34m)\u001b[0m\u001b[0;34m,\u001b[0m\u001b[0;36m1\u001b[0m\u001b[0;34m,\u001b[0m\u001b[0;36m1\u001b[0m\u001b[0;34m)\u001b[0m\u001b[0;34m\u001b[0m\u001b[0;34m\u001b[0m\u001b[0m\n\u001b[0m",
      "\u001b[0;32m<ipython-input-58-87bf235696af>\u001b[0m in \u001b[0;36mget_base_pricing\u001b[0;34m(part_dir)\u001b[0m\n\u001b[1;32m     84\u001b[0m         \u001b[0mqty\u001b[0m \u001b[0;34m=\u001b[0m \u001b[0mmeta\u001b[0m\u001b[0;34m[\u001b[0m\u001b[0;34m'qty'\u001b[0m\u001b[0;34m]\u001b[0m\u001b[0;34m\u001b[0m\u001b[0;34m\u001b[0m\u001b[0m\n\u001b[1;32m     85\u001b[0m         \u001b[0mcount\u001b[0m \u001b[0;34m+=\u001b[0m \u001b[0mqty\u001b[0m\u001b[0;34m\u001b[0m\u001b[0;34m\u001b[0m\u001b[0m\n\u001b[0;32m---> 86\u001b[0;31m     \u001b[0mpart_base\u001b[0m \u001b[0;34m=\u001b[0m \u001b[0mrates\u001b[0m\u001b[0;34m[\u001b[0m\u001b[0;34m'part_min'\u001b[0m\u001b[0;34m]\u001b[0m \u001b[0;34m+\u001b[0m \u001b[0mrates\u001b[0m\u001b[0;34m[\u001b[0m\u001b[0;34m'order_min'\u001b[0m\u001b[0;34m]\u001b[0m\u001b[0;34m/\u001b[0m\u001b[0mqty\u001b[0m\u001b[0;34m\u001b[0m\u001b[0;34m\u001b[0m\u001b[0m\n\u001b[0m\u001b[1;32m     87\u001b[0m     \u001b[0;32mfor\u001b[0m \u001b[0mpart\u001b[0m \u001b[0;32min\u001b[0m \u001b[0mparts\u001b[0m\u001b[0;34m:\u001b[0m\u001b[0;34m\u001b[0m\u001b[0;34m\u001b[0m\u001b[0m\n\u001b[1;32m     88\u001b[0m         \u001b[0;31m# STL data\u001b[0m\u001b[0;34m\u001b[0m\u001b[0;34m\u001b[0m\u001b[0;34m\u001b[0m\u001b[0m\n",
      "\u001b[0;31mUnboundLocalError\u001b[0m: local variable 'qty' referenced before assignment"
     ]
    }
   ],
   "source": [
    "print_pricing(get_base_pricing(\"jeff\"),1,1)"
   ]
  }
 ],
 "metadata": {
  "kernelspec": {
   "display_name": "Python 3",
   "language": "python",
   "name": "python3"
  },
  "language_info": {
   "codemirror_mode": {
    "name": "ipython",
    "version": 3
   },
   "file_extension": ".py",
   "mimetype": "text/x-python",
   "name": "python",
   "nbconvert_exporter": "python",
   "pygments_lexer": "ipython3",
   "version": "3.7.1"
  },
  "latex_envs": {
   "LaTeX_envs_menu_present": true,
   "autocomplete": true,
   "bibliofile": "biblio.bib",
   "cite_by": "apalike",
   "current_citInitial": 1,
   "eqLabelWithNumbers": true,
   "eqNumInitial": 1,
   "hotkeys": {
    "equation": "Ctrl-E",
    "itemize": "Ctrl-I"
   },
   "labels_anchors": false,
   "latex_user_defs": false,
   "report_style_numbering": false,
   "user_envs_cfg": false
  }
 },
 "nbformat": 4,
 "nbformat_minor": 2
}
